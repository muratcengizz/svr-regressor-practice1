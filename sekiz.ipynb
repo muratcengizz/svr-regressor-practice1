{
 "cells": [
  {
   "cell_type": "markdown",
   "id": "1002ea3b-920f-4f00-87ef-51323d87d1d2",
   "metadata": {},
   "source": [
    "# Doğrusal SVR (Support Vector Regression)"
   ]
  },
  {
   "cell_type": "markdown",
   "id": "a4e63b05-5acf-42d2-8667-e720a4e35b05",
   "metadata": {},
   "source": [
    "### Bir araba satıcısı, araba fiyatlarını müşterilerine teklif ederken, arabanın kilometresi ile fiyat arasında bir ilişki olduğunu düşünüyor. bu nedenle, müşterilerin sunduğu birkaç arabanın fiyatını ve kilometresini içeren bir veri seti oluşturuyor."
   ]
  },
  {
   "cell_type": "code",
   "execution_count": 114,
   "id": "bbf89ebb-175e-4fc2-adfd-f6e1c93a502f",
   "metadata": {},
   "outputs": [],
   "source": [
    "import numpy as np\n",
    "import pandas as pd\n",
    "from sklearn.svm import SVR\n",
    "from sklearn.model_selection import train_test_split, GridSearchCV\n",
    "from sklearn.metrics import mean_squared_error, r2_score\n",
    "from sklearn.pipeline import make_pipeline\n",
    "from sklearn.preprocessing import StandardScaler"
   ]
  },
  {
   "cell_type": "code",
   "execution_count": 115,
   "id": "791367ca-5f8d-4ede-93a2-fe91ed6805cf",
   "metadata": {},
   "outputs": [
    {
     "data": {
      "text/html": [
       "<div>\n",
       "<style scoped>\n",
       "    .dataframe tbody tr th:only-of-type {\n",
       "        vertical-align: middle;\n",
       "    }\n",
       "\n",
       "    .dataframe tbody tr th {\n",
       "        vertical-align: top;\n",
       "    }\n",
       "\n",
       "    .dataframe thead th {\n",
       "        text-align: right;\n",
       "    }\n",
       "</style>\n",
       "<table border=\"1\" class=\"dataframe\">\n",
       "  <thead>\n",
       "    <tr style=\"text-align: right;\">\n",
       "      <th></th>\n",
       "      <th>kilometreler</th>\n",
       "      <th>fiyatlar</th>\n",
       "    </tr>\n",
       "  </thead>\n",
       "  <tbody>\n",
       "    <tr>\n",
       "      <th>0</th>\n",
       "      <td>131958</td>\n",
       "      <td>74777.722620</td>\n",
       "    </tr>\n",
       "    <tr>\n",
       "      <th>1</th>\n",
       "      <td>156867</td>\n",
       "      <td>87850.112500</td>\n",
       "    </tr>\n",
       "    <tr>\n",
       "      <th>2</th>\n",
       "      <td>141932</td>\n",
       "      <td>79762.586776</td>\n",
       "    </tr>\n",
       "    <tr>\n",
       "      <th>3</th>\n",
       "      <td>113694</td>\n",
       "      <td>70551.556369</td>\n",
       "    </tr>\n",
       "    <tr>\n",
       "      <th>4</th>\n",
       "      <td>129879</td>\n",
       "      <td>74912.505551</td>\n",
       "    </tr>\n",
       "  </tbody>\n",
       "</table>\n",
       "</div>"
      ],
      "text/plain": [
       "   kilometreler      fiyatlar\n",
       "0        131958  74777.722620\n",
       "1        156867  87850.112500\n",
       "2        141932  79762.586776\n",
       "3        113694  70551.556369\n",
       "4        129879  74912.505551"
      ]
     },
     "execution_count": 115,
     "metadata": {},
     "output_type": "execute_result"
    }
   ],
   "source": [
    "# veri setinin oluşturulması\n",
    "\n",
    "np.random.seed(42)\n",
    "kilometreler = np.random.randint(10000, 200000, 50)\n",
    "fiyatlar = 10000 + kilometreler * 0.5 + np.random.normal(0, 2000, 50)\n",
    "\n",
    "df = pd.DataFrame({\n",
    "    'kilometreler': kilometreler,\n",
    "    'fiyatlar': fiyatlar\n",
    "})\n",
    "\n",
    "df.head()"
   ]
  },
  {
   "cell_type": "code",
   "execution_count": 116,
   "id": "5f220a8b-98d5-4219-a3d6-3e329d4ca2c4",
   "metadata": {},
   "outputs": [],
   "source": [
    "# bağımlı ve bağımsız değişkenleri oluşturalım.\n",
    "X = df['kilometreler'].values.reshape(-1, 1)\n",
    "y = df['fiyatlar'].values.ravel()"
   ]
  },
  {
   "cell_type": "code",
   "execution_count": null,
   "id": "ccd2d517-818d-4dec-96a2-bdf320fd9984",
   "metadata": {},
   "outputs": [],
   "source": []
  },
  {
   "cell_type": "code",
   "execution_count": 117,
   "id": "6791a7ef-03ba-4cbe-bd55-e4f33a30abcc",
   "metadata": {},
   "outputs": [],
   "source": [
    "# eğitim ve test setlerimi ayıralım.\n",
    "X_train, X_test, y_train, y_test = train_test_split(X, y, test_size=0.2, random_state=42)"
   ]
  },
  {
   "cell_type": "code",
   "execution_count": 118,
   "id": "5f887cfe-1bcb-47c0-85e9-f5f4dd59e821",
   "metadata": {},
   "outputs": [],
   "source": [
    "# modeli oluşturalım ve eğitelim.\n",
    "model = SVR(kernel='linear').fit(X_train, y_train)"
   ]
  },
  {
   "cell_type": "code",
   "execution_count": 119,
   "id": "bfa80c36-250f-47ed-87c2-a8c98fc152fb",
   "metadata": {},
   "outputs": [],
   "source": [
    "# tahmin yapalım.\n",
    "y_pred = model.predict(X_test)"
   ]
  },
  {
   "cell_type": "code",
   "execution_count": 120,
   "id": "cabd3528-653f-42a1-aee8-abc10b68639c",
   "metadata": {},
   "outputs": [
    {
     "name": "stdout",
     "output_type": "stream",
     "text": [
      "R-Kare Değeri:  0.996133059150438\n"
     ]
    }
   ],
   "source": [
    "# modeli değerlendirelim.\n",
    "r2 = r2_score(y_test, y_pred)\n",
    "print('R-Kare Değeri: ', r2)"
   ]
  },
  {
   "cell_type": "code",
   "execution_count": 126,
   "id": "bb9cebfe-5e75-407e-bb2f-58f8793ba113",
   "metadata": {
    "tags": []
   },
   "outputs": [
    {
     "name": "stdout",
     "output_type": "stream",
     "text": [
      "Best Params:  {'C': 0.1, 'epsilon': 0.01, 'kernel': 'linear'}\n",
      "Best Score:  0.9920706904878911\n"
     ]
    }
   ],
   "source": [
    "# Model tuning işlemi ile modelimizi optimize etmeye çalışalım.\n",
    "params = {\n",
    "    'C': [0.1, 1, 10],\n",
    "    'epsilon': [0.01, 0.1, 1], \n",
    "    'kernel': ['linear', 'poly', 'rbf']\n",
    "}\n",
    "\n",
    "grid = GridSearchCV(estimator=model, param_grid=params).fit(X_train, y_train)\n",
    "print('Best Params: ', grid.best_params_)\n",
    "print('Best Score: ', grid.best_score_)"
   ]
  },
  {
   "cell_type": "code",
   "execution_count": 127,
   "id": "93b093eb-922a-4e96-888d-ab8307b5e5d3",
   "metadata": {},
   "outputs": [
    {
     "name": "stdout",
     "output_type": "stream",
     "text": [
      "random_state=0 için R-Kare değeri: 0.9959727057212906\n",
      "random_state=10 için R-Kare değeri: 0.9885875445096275\n",
      "random_state=20 için R-Kare değeri: 0.9964610346945001\n",
      "random_state=42 için R-Kare değeri: 0.995728900518891\n",
      "random_state=60 için R-Kare değeri: 0.9967622520986578\n",
      "random_state=80 için R-Kare değeri: 0.991220022825655\n",
      "random_state=100 için R-Kare değeri: 0.9948539501087686\n"
     ]
    }
   ],
   "source": [
    "# en iyi random_state değerini bulalım.\n",
    "random_states = [0, 10, 20, 42, 60, 80, 100]\n",
    "\n",
    "for element in random_states:\n",
    "    X_train, X_test, y_train, y_test = train_test_split(X, y, test_size=0.2, random_state=element)\n",
    "    model = SVR(C=0.1, epsilon=0.01, kernel='linear').fit(X_train, y_train)\n",
    "    y_pred = model.predict(X_test)\n",
    "    r2 = r2_score(y_test, y_pred)\n",
    "    print(f'random_state={element} için R-Kare değeri: {r2}')"
   ]
  },
  {
   "cell_type": "code",
   "execution_count": 128,
   "id": "31ce5c3a-bfe4-466f-ace1-5a0b907b0c76",
   "metadata": {},
   "outputs": [
    {
     "name": "stdout",
     "output_type": "stream",
     "text": [
      "R-Kare Değeri:  0.9885875445096275\n"
     ]
    }
   ],
   "source": [
    "# En iyi parametreler için modelimizi tekrar oluşturalım.\n",
    "X_train, X_test, y_train, y_test = train_test_split(X, y, test_size=0.2, random_state=10)\n",
    "model = SVR(C=0.1, epsilon=0.01, kernel='linear').fit(X_train, y_train)\n",
    "y_pred = model.predict(X_test)\n",
    "r2 = r2_score(y_test, y_pred)\n",
    "print('R-Kare Değeri: ', r2)"
   ]
  },
  {
   "cell_type": "markdown",
   "id": "8135f9f5-b89e-4cf9-a04e-3c1890581b8b",
   "metadata": {},
   "source": [
    "# Tahmin"
   ]
  },
  {
   "cell_type": "code",
   "execution_count": 131,
   "id": "4811300b-1fb0-43ee-b819-e9dca0cec519",
   "metadata": {},
   "outputs": [
    {
     "data": {
      "text/html": [
       "<div>\n",
       "<style scoped>\n",
       "    .dataframe tbody tr th:only-of-type {\n",
       "        vertical-align: middle;\n",
       "    }\n",
       "\n",
       "    .dataframe tbody tr th {\n",
       "        vertical-align: top;\n",
       "    }\n",
       "\n",
       "    .dataframe thead th {\n",
       "        text-align: right;\n",
       "    }\n",
       "</style>\n",
       "<table border=\"1\" class=\"dataframe\">\n",
       "  <thead>\n",
       "    <tr style=\"text-align: right;\">\n",
       "      <th></th>\n",
       "      <th>kilometreler</th>\n",
       "      <th>fiyatlar</th>\n",
       "    </tr>\n",
       "  </thead>\n",
       "  <tbody>\n",
       "    <tr>\n",
       "      <th>0</th>\n",
       "      <td>131958</td>\n",
       "      <td>74777.72262</td>\n",
       "    </tr>\n",
       "    <tr>\n",
       "      <th>1</th>\n",
       "      <td>156867</td>\n",
       "      <td>87850.11250</td>\n",
       "    </tr>\n",
       "  </tbody>\n",
       "</table>\n",
       "</div>"
      ],
      "text/plain": [
       "   kilometreler     fiyatlar\n",
       "0        131958  74777.72262\n",
       "1        156867  87850.11250"
      ]
     },
     "execution_count": 131,
     "metadata": {},
     "output_type": "execute_result"
    }
   ],
   "source": [
    "df.head(2)"
   ]
  },
  {
   "cell_type": "code",
   "execution_count": 134,
   "id": "d0891bc5-9343-466d-b37f-be3fb3970383",
   "metadata": {},
   "outputs": [
    {
     "name": "stdin",
     "output_type": "stream",
     "text": [
      "Lütfen aracın KM bilgisini giriniz:  10000\n"
     ]
    },
    {
     "name": "stdout",
     "output_type": "stream",
     "text": [
      "Tahmini Fiyat: 14237\n"
     ]
    }
   ],
   "source": [
    "user_input = int(input('Lütfen aracın KM bilgisini giriniz: '))\n",
    "\n",
    "user_predict = model.predict([[user_input]])\n",
    "\n",
    "print(f'Tahmini Fiyat: {int(user_predict)}')"
   ]
  }
 ],
 "metadata": {
  "kernelspec": {
   "display_name": "Python 3 (ipykernel)",
   "language": "python",
   "name": "python3"
  },
  "language_info": {
   "codemirror_mode": {
    "name": "ipython",
    "version": 3
   },
   "file_extension": ".py",
   "mimetype": "text/x-python",
   "name": "python",
   "nbconvert_exporter": "python",
   "pygments_lexer": "ipython3",
   "version": "3.9.12"
  }
 },
 "nbformat": 4,
 "nbformat_minor": 5
}
